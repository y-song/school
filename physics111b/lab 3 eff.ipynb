{
 "cells": [
  {
   "cell_type": "code",
   "execution_count": 1,
   "metadata": {},
   "outputs": [
    {
     "name": "stdout",
     "output_type": "stream",
     "text": [
      "The history saving thread hit an unexpected error (DatabaseError('database disk image is malformed',)).History will not be written to the database.\n"
     ]
    }
   ],
   "source": [
    "import numpy as np\n",
    "import pandas as pd\n",
    "import matplotlib.pyplot as plt"
   ]
  },
  {
   "cell_type": "code",
   "execution_count": 2,
   "metadata": {},
   "outputs": [],
   "source": [
    "def getData(files):\n",
    "    f = open(\"data/\"+str(files), \"r\")\n",
    "    f1 = f.readlines()\n",
    "    del f1[0:2]\n",
    "    a = np.asarray(f1)\n",
    "    table = []\n",
    "    for i in range(0, len(a)):\n",
    "        b = a[i][0:-1].split('\\t')\n",
    "        c = map(float, b[0:6])\n",
    "        d = np.asarray(c)\n",
    "        table.append(d)\n",
    "    table = np.asarray(table)\n",
    "    pd.set_option('display.float_format', lambda x: '%.6e' % x)\n",
    "    df = pd.DataFrame(table, columns=['dt', 'v1', 'w1', 'v2', 'w2'])\n",
    "    return df"
   ]
  },
  {
   "cell_type": "code",
   "execution_count": 3,
   "metadata": {},
   "outputs": [],
   "source": [
    "def applyCut(inputDataframe, cut, text=None):\n",
    "    dataframe = inputDataframe\n",
    "    nbeforecut = dataframe.shape[0]\n",
    "    cutDataframe = dataframe.query(cut)\n",
    "    if text:\n",
    "        print text, cutDataframe.shape[0], ' fraction kept: %2.1f'%(100.0*float(cutDataframe.shape[0])/nbeforecut)\n",
    "    return cutDataframe"
   ]
  },
  {
   "cell_type": "code",
   "execution_count": 4,
   "metadata": {},
   "outputs": [],
   "source": [
    "df = getData('MUO_DigitizerEfficiency.dat')"
   ]
  },
  {
   "cell_type": "code",
   "execution_count": 5,
   "metadata": {},
   "outputs": [
    {
     "name": "stdout",
     "output_type": "stream",
     "text": [
      "1.004e-06 3.9624e-05\n"
     ]
    }
   ],
   "source": [
    "print min(df['dt']), max(df['dt'])"
   ]
  },
  {
   "cell_type": "code",
   "execution_count": 12,
   "metadata": {},
   "outputs": [
    {
     "data": {
      "image/png": "[encoded data removed]",
      "text/plain": [
       "<Figure size 432x288 with 1 Axes>"
      ]
     },
     "metadata": {
      "needs_background": "light"
     },
     "output_type": "display_data"
    }
   ],
   "source": [
    "plt.hist(df['dt'], bins=50, range=(1e-6, 4e-5))\n",
    "plt.xlabel('Time difference between pulses (s)', fontsize=15)\n",
    "plt.xticks(fontsize=15)\n",
    "plt.ylabel('Number of counts', fontsize=15)\n",
    "plt.yticks(fontsize=15)\n",
    "plt.ticklabel_format(axis=\"x\", style=\"sci\", scilimits=(0,0))"
   ]
  },
  {
   "cell_type": "code",
   "execution_count": 64,
   "metadata": {},
   "outputs": [
    {
     "name": "stdout",
     "output_type": "stream",
     "text": [
      "dt > 0.00000139 20856  fraction kept: 98.6\n",
      "dt < 0.00000139 294  fraction kept: 1.4\n"
     ]
    },
    {
     "data": {
      "text/plain": [
       "(array([294.,   0.,   0.,   0.,   0.,   0.,   0.,   0.,   0.,   0.,   0.,\n",
       "          0.,   0.,   0.,   0.,   0.,   0.,   0.,   0.,   0.,   0.,   0.,\n",
       "          0.,   0.,   0.,   0.,   0.,   0.,   0.,   0.,   0.,   0.,   0.,\n",
       "          0.,   0.,   0.,   0.,   0.,   0.,   0.,   0.,   0.,   0.,   0.,\n",
       "          0.,   0.,   0.,   0.,   0.,   0.,   0.,   0.,   0.,   0.,   0.,\n",
       "          0.,   0.,   0.,   0.,   0.,   0.,   0.,   0.,   0.,   0.,   0.,\n",
       "          0.,   0.,   0.,   0.,   0.,   0.,   0.,   0.,   0.,   0.,   0.,\n",
       "          0.,   0.,   0.,   0.,   0.,   0.,   0.,   0.,   0.,   0.,   0.,\n",
       "          0.,   0.,   0.,   0.,   0.,   0.,   0.,   0.,   0.,   0.,   0.,\n",
       "          0.]),\n",
       " array([1.000e-06, 1.390e-06, 1.780e-06, 2.170e-06, 2.560e-06, 2.950e-06,\n",
       "        3.340e-06, 3.730e-06, 4.120e-06, 4.510e-06, 4.900e-06, 5.290e-06,\n",
       "        5.680e-06, 6.070e-06, 6.460e-06, 6.850e-06, 7.240e-06, 7.630e-06,\n",
       "        8.020e-06, 8.410e-06, 8.800e-06, 9.190e-06, 9.580e-06, 9.970e-06,\n",
       "        1.036e-05, 1.075e-05, 1.114e-05, 1.153e-05, 1.192e-05, 1.231e-05,\n",
       "        1.270e-05, 1.309e-05, 1.348e-05, 1.387e-05, 1.426e-05, 1.465e-05,\n",
       "        1.504e-05, 1.543e-05, 1.582e-05, 1.621e-05, 1.660e-05, 1.699e-05,\n",
       "        1.738e-05, 1.777e-05, 1.816e-05, 1.855e-05, 1.894e-05, 1.933e-05,\n",
       "        1.972e-05, 2.011e-05, 2.050e-05, 2.089e-05, 2.128e-05, 2.167e-05,\n",
       "        2.206e-05, 2.245e-05, 2.284e-05, 2.323e-05, 2.362e-05, 2.401e-05,\n",
       "        2.440e-05, 2.479e-05, 2.518e-05, 2.557e-05, 2.596e-05, 2.635e-05,\n",
       "        2.674e-05, 2.713e-05, 2.752e-05, 2.791e-05, 2.830e-05, 2.869e-05,\n",
       "        2.908e-05, 2.947e-05, 2.986e-05, 3.025e-05, 3.064e-05, 3.103e-05,\n",
       "        3.142e-05, 3.181e-05, 3.220e-05, 3.259e-05, 3.298e-05, 3.337e-05,\n",
       "        3.376e-05, 3.415e-05, 3.454e-05, 3.493e-05, 3.532e-05, 3.571e-05,\n",
       "        3.610e-05, 3.649e-05, 3.688e-05, 3.727e-05, 3.766e-05, 3.805e-05,\n",
       "        3.844e-05, 3.883e-05, 3.922e-05, 3.961e-05, 4.000e-05]),\n",
       " <a list of 100 Patch objects>)"
      ]
     },
     "execution_count": 64,
     "metadata": {},
     "output_type": "execute_result"
    },
    {
     "data": {
      "image/png": "[encoded data removed]",
      "text/plain": [
       "<Figure size 432x288 with 1 Axes>"
      ]
     },
     "metadata": {
      "needs_background": "light"
     },
     "output_type": "display_data"
    }
   ],
   "source": [
    "df_good = applyCut(df, 'dt > 0.00000139', 'dt > 0.00000139')\n",
    "df_bad = applyCut(df, 'dt < 0.00000139', 'dt < 0.00000139')\n",
    "plt.hist(df_good['dt'], bins=100, range=(1e-6, 4e-5))\n",
    "plt.hist(df_bad['dt'], bins=100, range=(1e-6, 4e-5))"
   ]
  },
  {
   "cell_type": "code",
   "execution_count": 69,
   "metadata": {},
   "outputs": [
    {
     "data": {
      "text/plain": [
       "<matplotlib.legend.Legend at 0x7fd6c845fe10>"
      ]
     },
     "execution_count": 69,
     "metadata": {},
     "output_type": "execute_result"
    },
    {
     "data": {
      "image/png": "[encoded data removed]",
      "text/plain": [
       "<Figure size 432x288 with 1 Axes>"
      ]
     },
     "metadata": {
      "needs_background": "light"
     },
     "output_type": "display_data"
    }
   ],
   "source": [
    "plt.hist(df_good['v1'], range=(0.45, 0.9), label='good', alpha=0.5, normed=True)\n",
    "plt.hist(df_bad['v1'], range=(0.45, 0.9), label='bad', alpha=0.5, normed=True)\n",
    "plt.title('Muon signal')\n",
    "plt.legend()"
   ]
  },
  {
   "cell_type": "code",
   "execution_count": 76,
   "metadata": {},
   "outputs": [
    {
     "data": {
      "text/plain": [
       "<matplotlib.legend.Legend at 0x7fd6c7b34b10>"
      ]
     },
     "execution_count": 76,
     "metadata": {},
     "output_type": "execute_result"
    },
    {
     "data": {
      "image/png": "[encoded data removed]",
      "text/plain": [
       "<Figure size 432x288 with 1 Axes>"
      ]
     },
     "metadata": {
      "needs_background": "light"
     },
     "output_type": "display_data"
    }
   ],
   "source": [
    "plt.hist(df_good['v2'], bins=20, range=(0,0.8), label='good', alpha=0.5, normed=True)\n",
    "plt.hist(df_bad['v2'], bins=20, range=(0,0.8), label='bad', alpha=0.5, normed=True)\n",
    "plt.title('Delay generator signal')\n",
    "plt.legend()"
   ]
  },
  {
   "cell_type": "code",
   "execution_count": 34,
   "metadata": {},
   "outputs": [
    {
     "data": {
      "image/png": "[encoded data removed]",
      "text/plain": [
       "<Figure size 432x288 with 1 Axes>"
      ]
     },
     "metadata": {
      "needs_background": "light"
     },
     "output_type": "display_data"
    }
   ],
   "source": [
    "plt.hist(df['dt'], bins=100, range=(1.2e-6, 4e-5))\n",
    "plt.xlabel('Time difference (s)', fontsize=15)\n",
    "plt.xticks(fontsize=15)\n",
    "plt.ylabel('Number of counts', fontsize=15)\n",
    "plt.yticks(fontsize=15)\n",
    "plt.ticklabel_format(axis=\"x\", style=\"sci\", scilimits=(0,0))\n",
    "plt.yscale('log')"
   ]
  },
  {
   "cell_type": "code",
   "execution_count": null,
   "metadata": {},
   "outputs": [],
   "source": []
  }
 ],
 "metadata": {
  "kernelspec": {
   "display_name": "Python 2",
   "language": "python",
   "name": "python2"
  },
  "language_info": {
   "codemirror_mode": {
    "name": "ipython",
    "version": 2
   },
   "file_extension": ".py",
   "mimetype": "text/x-python",
   "name": "python",
   "nbconvert_exporter": "python",
   "pygments_lexer": "ipython2",
   "version": "2.7.15rc1"
  }
 },
 "nbformat": 4,
 "nbformat_minor": 2
}
