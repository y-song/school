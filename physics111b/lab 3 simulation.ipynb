{
 "cells": [
  {
   "cell_type": "code",
   "execution_count": 15,
   "metadata": {},
   "outputs": [],
   "source": [
    "import numpy as np\n",
    "import matplotlib.pyplot as plt\n",
    "from math import exp\n",
    "from scipy.optimize import curve_fit\n",
    "from scipy.stats import chi2\n",
    "from __future__ import division"
   ]
  },
  {
   "cell_type": "code",
   "execution_count": 16,
   "metadata": {},
   "outputs": [],
   "source": [
    "def getChiSq(y, y_fit, sigma):\n",
    "    chi_sq = 0\n",
    "    for i in range(len(y)):\n",
    "        chi_sq += ( (y[i] - y_fit[i]) / sigma[i] )**2\n",
    "    return chi_sq"
   ]
  },
  {
   "cell_type": "code",
   "execution_count": 17,
   "metadata": {},
   "outputs": [],
   "source": [
    "def getRedChi2(y, y_fit, sigma, numPar=2):\n",
    "    chi_sq = getChiSq(y, y_fit, sigma)\n",
    "    red_chi_sq = chi_sq / (len(y) - numPar)\n",
    "    p = chi2.pdf(chi_sq, df=(len(y) - numPar))\n",
    "    print 'reduced chi-square =', '%.2f'%(red_chi_sq), 'p-value =', '%.2f'%(p)\n",
    "    return red_chi_sq"
   ]
  },
  {
   "cell_type": "code",
   "execution_count": 18,
   "metadata": {},
   "outputs": [],
   "source": [
    "def decay(x, tau, a):\n",
    "    return a * np.exp(- x / tau)"
   ]
  },
  {
   "cell_type": "code",
   "execution_count": 7,
   "metadata": {},
   "outputs": [],
   "source": [
    "tau = 2.2"
   ]
  },
  {
   "cell_type": "code",
   "execution_count": 12,
   "metadata": {},
   "outputs": [],
   "source": [
    "r = np.random.random(20000)\n",
    "t = - tau * np.log(r)"
   ]
  },
  {
   "cell_type": "code",
   "execution_count": 13,
   "metadata": {},
   "outputs": [],
   "source": [
    "low = 3\n",
    "high = 6\n",
    "bins = 12\n",
    "binWidth = (high - low) / bins"
   ]
  },
  {
   "cell_type": "code",
   "execution_count": 14,
   "metadata": {},
   "outputs": [
    {
     "data": {
      "text/plain": [
       "Text(0.5,1,'Signal (simulation)')"
      ]
     },
     "execution_count": 14,
     "metadata": {},
     "output_type": "execute_result"
    },
    {
     "data": {
      "image/png": "[encoded data removed]",
      "text/plain": [
       "<Figure size 432x288 with 1 Axes>"
      ]
     },
     "metadata": {
      "needs_background": "light"
     },
     "output_type": "display_data"
    }
   ],
   "source": [
    "plt.hist(t, bins = bins, range=(low, high))\n",
    "plt.xlabel('Time difference between the pulses dt ($\\mu$s)', fontsize=12.5)\n",
    "plt.xticks(fontsize=15)\n",
    "plt.ylabel('Counts', fontsize=15)\n",
    "plt.yticks(fontsize=15)\n",
    "plt.title('Signal (simulation)', fontsize=15)"
   ]
  },
  {
   "cell_type": "code",
   "execution_count": 19,
   "metadata": {},
   "outputs": [],
   "source": [
    "y, binEdges = np.histogram(t, bins=bins, range=(low, high))\n",
    "x = []\n",
    "for i in range(len(y)):\n",
    "    x.append((binEdges[i] + binEdges[i+1]) / 2)\n",
    "x = np.asarray(x)"
   ]
  },
  {
   "cell_type": "code",
   "execution_count": 20,
   "metadata": {},
   "outputs": [
    {
     "name": "stdout",
     "output_type": "stream",
     "text": [
      "Parameters of binned exponential decay fit y = a * exp( -x / tau):\n",
      " tau = 2.184 micro sec\n",
      " a = 2355.523\n",
      " error on tau = 0.1007 micro sec\n",
      " error on a = 196.7416\n"
     ]
    }
   ],
   "source": [
    "popt, pcov = curve_fit(decay, x, y) # pcov is the covariance matrix for the fit parameters\n",
    "\n",
    "print 'Parameters of binned exponential decay fit y = a * exp( -x / tau):'\n",
    "print ' tau =','%.3f'%(popt[0]),'micro sec'\n",
    "print ' a =','%.3f'%(popt[1])\n",
    "print ' error on tau =', '%.4f'%(np.sqrt(pcov[0][0])), 'micro sec'\n",
    "print ' error on a =', '%.4f'%(np.sqrt(pcov[1][1]))"
   ]
  },
  {
   "cell_type": "code",
   "execution_count": 22,
   "metadata": {},
   "outputs": [
    {
     "data": {
      "text/plain": [
       "<matplotlib.legend.Legend at 0x7ff35e30fad0>"
      ]
     },
     "execution_count": 22,
     "metadata": {},
     "output_type": "execute_result"
    },
    {
     "data": {
      "image/png": "[encoded data removed]",
      "text/plain": [
       "<Figure size 432x288 with 1 Axes>"
      ]
     },
     "metadata": {
      "needs_background": "light"
     },
     "output_type": "display_data"
    }
   ],
   "source": [
    "arange = np.arange(low, high+0.05, 0.05)\n",
    "plt.hist(binEdges[:-1], binEdges, weights=y)\n",
    "plt.plot(arange, decay(arange,popt[0],popt[1]))#,label=r'$y= (1.04 \\pm 0.57) 10^4 \\exp[-x/(1.95 \\pm 0.05)]$'+' \\n reduced $\\chi^2$ = 1.57',linewidth=3,alpha=.5,color='r')\n",
    "plt.xlabel('Time difference between the pulses dt($\\mu$s)', fontsize=12.5)\n",
    "plt.xticks(fontsize=15)\n",
    "plt.ylabel('Counts', fontsize=15)\n",
    "plt.yticks(fontsize=15)\n",
    "plt.title('Signal', fontsize=15)\n",
    "plt.legend(prop={'size': 12.5}, frameon=False, loc='upper right')"
   ]
  },
  {
   "cell_type": "code",
   "execution_count": 23,
   "metadata": {},
   "outputs": [
    {
     "name": "stdout",
     "output_type": "stream",
     "text": [
      "reduced chi-square = 1.17 p-value = 0.07\n"
     ]
    },
    {
     "data": {
      "text/plain": [
       "1.168907477137354"
      ]
     },
     "execution_count": 23,
     "metadata": {},
     "output_type": "execute_result"
    }
   ],
   "source": [
    "sigma = np.sqrt(y)\n",
    "getRedChi2(y, decay(x, popt[0], popt[1]), sigma)"
   ]
  },
  {
   "cell_type": "code",
   "execution_count": null,
   "metadata": {},
   "outputs": [],
   "source": []
  }
 ],
 "metadata": {
  "kernelspec": {
   "display_name": "Python 2",
   "language": "python",
   "name": "python2"
  },
  "language_info": {
   "codemirror_mode": {
    "name": "ipython",
    "version": 2
   },
   "file_extension": ".py",
   "mimetype": "text/x-python",
   "name": "python",
   "nbconvert_exporter": "python",
   "pygments_lexer": "ipython2",
   "version": "2.7.15rc1"
  }
 },
 "nbformat": 4,
 "nbformat_minor": 2
}
