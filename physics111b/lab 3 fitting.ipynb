{
 "cells": [
  {
   "cell_type": "code",
   "execution_count": 18,
   "metadata": {},
   "outputs": [],
   "source": [
    "import numpy as np\n",
    "import pandas as pd\n",
    "import matplotlib.pyplot as plt\n",
    "from scipy.optimize import curve_fit\n",
    "from scipy.stats import chi2\n",
    "from __future__ import division"
   ]
  },
  {
   "cell_type": "code",
   "execution_count": 2,
   "metadata": {},
   "outputs": [],
   "source": [
    "def getData(files):\n",
    "    f = open(\"data/\"+str(files), \"r\")\n",
    "    f1 = f.readlines()\n",
    "    del f1[0:4]\n",
    "    a = np.asarray(f1)\n",
    "    table = []\n",
    "    for i in range(0, len(a)):\n",
    "        b = a[i][0:-1].split('\\t')\n",
    "        c = map(float, b[0:6])\n",
    "        d = np.asarray(c)\n",
    "        table.append(d)\n",
    "    table = np.asarray(table)\n",
    "    pd.set_option('display.float_format', lambda x: '%.6e' % x)\n",
    "    df = pd.DataFrame(table, columns=['t1', 'v1', 'w1', 't2', 'v2', 'w2'])\n",
    "    return df"
   ]
  },
  {
   "cell_type": "code",
   "execution_count": 3,
   "metadata": {},
   "outputs": [],
   "source": [
    "def getChiSq(y, y_fit, sigma):\n",
    "    chi_sq = 0\n",
    "    for i in range(len(y)):\n",
    "        chi_sq += ( (y[i] - y_fit[i]) / sigma[i] )**2\n",
    "    return chi_sq"
   ]
  },
  {
   "cell_type": "code",
   "execution_count": 4,
   "metadata": {},
   "outputs": [],
   "source": [
    "def getRedChi2(y, y_fit, sigma, numPar=2):\n",
    "    chi_sq = getChiSq(y, y_fit, sigma)\n",
    "    red_chi_sq = chi_sq / (len(y) - numPar)\n",
    "    p = chi2.pdf(chi_sq, df=(len(y) - numPar))\n",
    "    print 'reduced chi-square =', '%.2f'%(red_chi_sq), 'p-value =', '%.2f'%(p)\n",
    "    return red_chi_sq"
   ]
  },
  {
   "cell_type": "code",
   "execution_count": 5,
   "metadata": {},
   "outputs": [],
   "source": [
    "def integrate(binwidth, yarray, low, high):\n",
    "    s = 0\n",
    "    interval = (int)((high - low)/binwidth)\n",
    "    for i in range(0, interval):\n",
    "        s = s + binwidth * yarray[i]\n",
    "    return s"
   ]
  },
  {
   "cell_type": "code",
   "execution_count": 86,
   "metadata": {},
   "outputs": [],
   "source": [
    "def applyCut(inputDataframe, cut, text=None):\n",
    "    dataframe = inputDataframe\n",
    "    nbeforecut = dataframe.shape[0]\n",
    "    cutDataframe = dataframe.query(cut)\n",
    "    if text:\n",
    "        print text, cutDataframe.shape[0], ' fraction kept: %2.1f'%(100.0*float(cutDataframe.shape[0])/nbeforecut)\n",
    "    return cutDataframe"
   ]
  },
  {
   "cell_type": "code",
   "execution_count": 9,
   "metadata": {},
   "outputs": [],
   "source": [
    "df = getData('MUO_long.dat')\n",
    "df.eval('dt = t2 - t1', inplace=True)"
   ]
  },
  {
   "cell_type": "code",
   "execution_count": 7,
   "metadata": {},
   "outputs": [],
   "source": [
    "def decay(x, tau, c):\n",
    "    return np.exp(- x / tau) + c"
   ]
  },
  {
   "cell_type": "code",
   "execution_count": null,
   "metadata": {},
   "outputs": [],
   "source": []
  },
  {
   "cell_type": "code",
   "execution_count": 87,
   "metadata": {},
   "outputs": [
    {
     "name": "stdout",
     "output_type": "stream",
     "text": [
      "v1 > 0.05 940307  fraction kept: 98.0\n",
      "v2 > 0.05 82487  fraction kept: 8.8\n"
     ]
    }
   ],
   "source": [
    "df = applyCut(df, 'v1 > 0.05', 'v1 > 0.05')\n",
    "df = applyCut(df, 'v2 > 0.05', 'v2 > 0.05')"
   ]
  },
  {
   "cell_type": "code",
   "execution_count": 88,
   "metadata": {},
   "outputs": [
    {
     "data": {
      "image/png": "[encoded data removed]",
      "text/plain": [
       "<Figure size 432x288 with 1 Axes>"
      ]
     },
     "metadata": {
      "needs_background": "light"
     },
     "output_type": "display_data"
    }
   ],
   "source": [
    "plt.hist(df['dt']*1e6, bins = 100, range=(2, 10))\n",
    "plt.xlabel('Time difference between the pulses dt ($\\mu$s)', fontsize=12.5)\n",
    "plt.xticks(fontsize=12.5)\n",
    "plt.ylabel('counts', fontsize=12.5)\n",
    "plt.yticks(fontsize=12.5)\n",
    "plt.ticklabel_format(axis=\"x\", style=\"sci\", scilimits=(0,0))\n",
    "plt.title('Signal + background')\n",
    "plt.yscale('log')"
   ]
  },
  {
   "cell_type": "code",
   "execution_count": 89,
   "metadata": {},
   "outputs": [
    {
     "data": {
      "text/plain": [
       "Text(0.5,1,'Signal + background')"
      ]
     },
     "execution_count": 89,
     "metadata": {},
     "output_type": "execute_result"
    },
    {
     "data": {
      "image/png": "[encoded data removed]",
      "text/plain": [
       "<Figure size 432x288 with 1 Axes>"
      ]
     },
     "metadata": {
      "needs_background": "light"
     },
     "output_type": "display_data"
    }
   ],
   "source": [
    "plt.hist(df['dt']*1e6, bins = 100, range=(2, 10), normed=True)\n",
    "plt.xlabel('Time difference between the pulses dt ($\\mu$s)', fontsize=12.5)\n",
    "plt.xticks(fontsize=12.5)\n",
    "plt.ylabel('counts', fontsize=12.5)\n",
    "plt.yticks(fontsize=12.5)\n",
    "plt.ticklabel_format(axis=\"x\", style=\"sci\", scilimits=(0,0))\n",
    "plt.title('Signal + background')"
   ]
  },
  {
   "cell_type": "code",
   "execution_count": 90,
   "metadata": {},
   "outputs": [],
   "source": [
    "y, binEdges = np.histogram(df['dt']*1e6, bins=100, range=(2, 10), density=True)\n",
    "x = []\n",
    "for i in range(len(y)):\n",
    "    x.append((binEdges[i] + binEdges[i+1]) / 2)"
   ]
  },
  {
   "cell_type": "code",
   "execution_count": 91,
   "metadata": {},
   "outputs": [
    {
     "name": "stdout",
     "output_type": "stream",
     "text": [
      "Parameters of binned linear fit: tau = 2.511 micro sec,  c = -0.011  error on tau = 0.0397 micro sec, error on c = 0.0039\n"
     ]
    }
   ],
   "source": [
    "popt, pcov = curve_fit(decay, x, y) # pcov is the covariance matrix for the fit parameters\n",
    "\n",
    "print 'Parameters of binned linear fit: tau =','%.3f'%(popt[0]),'micro sec,',' c =','%.3f'%(popt[1]),\\\n",
    "       ' error on tau =', '%.4f'%(np.sqrt(pcov[0][0])), 'micro sec,', \\\n",
    "       'error on c =', '%.4f'%(np.sqrt(pcov[1][1]))"
   ]
  },
  {
   "cell_type": "code",
   "execution_count": 92,
   "metadata": {},
   "outputs": [
    {
     "data": {
      "text/plain": [
       "<matplotlib.legend.Legend at 0x7fc65d6917d0>"
      ]
     },
     "execution_count": 92,
     "metadata": {},
     "output_type": "execute_result"
    },
    {
     "data": {
      "image/png": "[encoded data removed]",
      "text/plain": [
       "<Figure size 432x288 with 1 Axes>"
      ]
     },
     "metadata": {
      "needs_background": "light"
     },
     "output_type": "display_data"
    }
   ],
   "source": [
    "arange = np.arange(2, 10.05, 0.05)\n",
    "plt.hist(binEdges[:-1], binEdges, weights=y, label='data')\n",
    "plt.plot(arange, decay(arange, popt[0], popt[1])) #label='fit: $log_{10}(y) = -0.58 \\mu s^{-1} x + 1.10$ \\\n",
    "         #\\n cannot set intercept to 0')\n",
    "plt.xlabel('Time difference between the pulses dt($\\mu$s)', fontsize=12.5)\n",
    "plt.xticks(fontsize=12.5)\n",
    "plt.ylabel('Normalized counts', fontsize=12.5)\n",
    "#plt.ylabel('$log_{10}$(counts)', fontsize=12.5)\n",
    "plt.yticks(fontsize=12.5)\n",
    "plt.title('Signal')\n",
    "plt.legend(prop={'size': 15}, frameon=False, loc='best')"
   ]
  },
  {
   "cell_type": "code",
   "execution_count": null,
   "metadata": {},
   "outputs": [],
   "source": []
  },
  {
   "cell_type": "code",
   "execution_count": 93,
   "metadata": {},
   "outputs": [],
   "source": [
    "low = 6\n",
    "high = 10\n",
    "bins = 50\n",
    "binWidth = (high - low) / bins"
   ]
  },
  {
   "cell_type": "code",
   "execution_count": 94,
   "metadata": {},
   "outputs": [
    {
     "data": {
      "text/plain": [
       "Text(0.5,1,'Signal + background')"
      ]
     },
     "execution_count": 94,
     "metadata": {},
     "output_type": "execute_result"
    },
    {
     "data": {
      "image/png": "[encoded data removed]",
      "text/plain": [
       "<Figure size 432x288 with 1 Axes>"
      ]
     },
     "metadata": {
      "needs_background": "light"
     },
     "output_type": "display_data"
    }
   ],
   "source": [
    "plt.hist(df['dt']*1e6, bins = bins, range=(low, high), normed=True)\n",
    "plt.xlabel('Time difference between the pulses dt ($\\mu$s)', fontsize=12.5)\n",
    "plt.xticks(fontsize=12.5)\n",
    "plt.ylabel('counts', fontsize=12.5)\n",
    "plt.yticks(fontsize=12.5)\n",
    "plt.title('Signal + background')"
   ]
  },
  {
   "cell_type": "code",
   "execution_count": 95,
   "metadata": {},
   "outputs": [],
   "source": [
    "y, binEdges = np.histogram(df['dt']*1e6, bins=bins, range=(low, high), density=True)\n",
    "x = []\n",
    "for i in range(len(y)):\n",
    "    x.append((binEdges[i] + binEdges[i+1]) / 2)\n",
    "x = np.asarray(x)"
   ]
  },
  {
   "cell_type": "code",
   "execution_count": 96,
   "metadata": {},
   "outputs": [
    {
     "name": "stdout",
     "output_type": "stream",
     "text": [
      "Parameters of binned linear fit: tau = 7.756 micro sec,  c = -0.110  error on tau = 16.9661 micro sec, error on c = 0.7959\n"
     ]
    }
   ],
   "source": [
    "popt, pcov = curve_fit(decay, x, y) # pcov is the covariance matrix for the fit parameters\n",
    "\n",
    "print 'Parameters of binned linear fit: tau =','%.3f'%(popt[0]),'micro sec,',' c =','%.3f'%(popt[1]),\\\n",
    "       ' error on tau =', '%.4f'%(np.sqrt(pcov[0][0])), 'micro sec,', \\\n",
    "       'error on c =', '%.4f'%(np.sqrt(pcov[1][1]))"
   ]
  },
  {
   "cell_type": "code",
   "execution_count": 97,
   "metadata": {},
   "outputs": [
    {
     "data": {
      "text/plain": [
       "<matplotlib.legend.Legend at 0x7fc65db67590>"
      ]
     },
     "execution_count": 97,
     "metadata": {},
     "output_type": "execute_result"
    },
    {
     "data": {
      "image/png": "[encoded data removed]",
      "text/plain": [
       "<Figure size 432x288 with 1 Axes>"
      ]
     },
     "metadata": {
      "needs_background": "light"
     },
     "output_type": "display_data"
    }
   ],
   "source": [
    "arange = np.arange(6, 10.05, 0.05)\n",
    "plt.hist(binEdges[:-1], binEdges, weights=y, label='data')\n",
    "plt.plot(arange, decay(arange, popt[0], popt[1]), label='fit: $y = exp(-\\Delta t / 2.67) + 0.20$')\n",
    "plt.xlabel('Time difference between the pulses dt($\\mu$s)', fontsize=12.5)\n",
    "plt.xticks(fontsize=12.5)\n",
    "plt.ylabel('Normalized counts', fontsize=12.5)\n",
    "plt.yticks(fontsize=12.5)\n",
    "plt.title('Signal + background')\n",
    "plt.legend(prop={'size': 15}, frameon=True, loc='best')"
   ]
  },
  {
   "cell_type": "code",
   "execution_count": 81,
   "metadata": {},
   "outputs": [],
   "source": [
    "tot = integrate(binWidth, np.histogram(df['dt']*1e6, bins=bins, range=(low, high))[0], low, high)\n",
    "sigma = np.sqrt(tot * y) / tot"
   ]
  },
  {
   "cell_type": "code",
   "execution_count": 82,
   "metadata": {},
   "outputs": [
    {
     "name": "stdout",
     "output_type": "stream",
     "text": [
      "reduced chi-square = 1.39 p-value = 0.01\n"
     ]
    },
    {
     "data": {
      "text/plain": [
       "1.3858704704708804"
      ]
     },
     "execution_count": 82,
     "metadata": {},
     "output_type": "execute_result"
    }
   ],
   "source": [
    "getRedChi2(y, decay(x, popt[0], popt[1]), sigma)"
   ]
  },
  {
   "cell_type": "code",
   "execution_count": null,
   "metadata": {},
   "outputs": [],
   "source": []
  },
  {
   "cell_type": "markdown",
   "metadata": {},
   "source": [
    "Fit a linear curve to the background"
   ]
  },
  {
   "cell_type": "code",
   "execution_count": 23,
   "metadata": {},
   "outputs": [],
   "source": [
    "def linear(x, k, b):\n",
    "    return k*x+b"
   ]
  },
  {
   "cell_type": "code",
   "execution_count": 53,
   "metadata": {},
   "outputs": [
    {
     "data": {
      "text/plain": [
       "Text(0.5,1,'Background')"
      ]
     },
     "execution_count": 53,
     "metadata": {},
     "output_type": "execute_result"
    },
    {
     "data": {
      "image/png": "[encoded data removed]",
      "text/plain": [
       "<Figure size 432x288 with 1 Axes>"
      ]
     },
     "metadata": {
      "needs_background": "light"
     },
     "output_type": "display_data"
    }
   ],
   "source": [
    "plt.hist(df['dt']*1e6, bins=20, range=(10, 20))\n",
    "plt.xlabel('Time between the pulses dt ($\\mu$s)')\n",
    "plt.ylabel('counts')\n",
    "plt.title('Background')"
   ]
  },
  {
   "cell_type": "code",
   "execution_count": 40,
   "metadata": {},
   "outputs": [],
   "source": [
    "y, binEdges = np.histogram(df['dt']*1e6, bins=20, range=(10, 20))\n",
    "x = []\n",
    "for i in range(len(y)):\n",
    "    x.append((binEdges[i] + binEdges[i+1]) / 2)\n",
    "x = np.asarray(x)"
   ]
  },
  {
   "cell_type": "code",
   "execution_count": 41,
   "metadata": {},
   "outputs": [
    {
     "name": "stdout",
     "output_type": "stream",
     "text": [
      "Parameters of binned linear fit: slope = -0.008 micro sec ^ (-1),  interceprt = 3.898  error on the slope = 0.0007 micro sec ^ (-1), error on the intercept = 0.0104\n"
     ]
    }
   ],
   "source": [
    "popt, pcov = curve_fit(linear, x, np.log10(y)) # pcov is the covariance matrix for the fit parameters\n",
    "\n",
    "k_backg = popt[0]\n",
    "b_backg = popt[1]\n",
    "\n",
    "print 'Parameters of binned linear fit: slope =','%.3f'%(popt[0]),'micro sec ^ (-1),',' interceprt =','%.3f'%(popt[1]),\\\n",
    "       ' error on the slope =', '%.4f'%(np.sqrt(pcov[0][0])), 'micro sec ^ (-1),', \\\n",
    "       'error on the intercept =', '%.4f'%(np.sqrt(pcov[1][1]))"
   ]
  },
  {
   "cell_type": "code",
   "execution_count": 50,
   "metadata": {},
   "outputs": [
    {
     "data": {
      "text/plain": [
       "Text(0.5,1,'Background')"
      ]
     },
     "execution_count": 50,
     "metadata": {},
     "output_type": "execute_result"
    },
    {
     "data": {
      "image/png": "[encoded data removed]",
      "text/plain": [
       "<Figure size 432x288 with 1 Axes>"
      ]
     },
     "metadata": {
      "needs_background": "light"
     },
     "output_type": "display_data"
    }
   ],
   "source": [
    "arange = np.arange(10, 21)\n",
    "plt.hist(binEdges[:-1], binEdges, weights=np.log10(y), label='data')\n",
    "plt.plot(arange,linear(arange,popt[0],popt[1]),label='fit: $log_{10}(y)= -0.008 \\mu s^{-1} x + 3.898$',linewidth=3,alpha=.5,color='r')\n",
    "plt.xlabel('Time between the pulses dt ($\\mu$s)')\n",
    "plt.ylabel('$log_{10}$(counts)')\n",
    "plt.legend(prop={'size': 15}, frameon=True, loc='best')\n",
    "plt.title('Background')"
   ]
  },
  {
   "cell_type": "code",
   "execution_count": 34,
   "metadata": {},
   "outputs": [
    {
     "name": "stdout",
     "output_type": "stream",
     "text": [
      "reduced chi-square = 0.71 p-value = 0.06\n"
     ]
    },
    {
     "data": {
      "text/plain": [
       "0.7127452379763739"
      ]
     },
     "execution_count": 34,
     "metadata": {},
     "output_type": "execute_result"
    }
   ],
   "source": [
    "y, binEdges = np.histogram(df['dt']*1e6, bins=20, range=(10, 20), density=True)\n",
    "popt, pcov = curve_fit(linear, x, np.log10(y))\n",
    "getRedChi2(y, linear(x, popt[0], popt[1]), 1/(np.sqrt(y)*np.log(10)))"
   ]
  },
  {
   "cell_type": "code",
   "execution_count": null,
   "metadata": {},
   "outputs": [],
   "source": []
  }
 ],
 "metadata": {
  "kernelspec": {
   "display_name": "Python 2",
   "language": "python",
   "name": "python2"
  },
  "language_info": {
   "codemirror_mode": {
    "name": "ipython",
    "version": 2
   },
   "file_extension": ".py",
   "mimetype": "text/x-python",
   "name": "python",
   "nbconvert_exporter": "python",
   "pygments_lexer": "ipython2",
   "version": "2.7.15rc1"
  }
 },
 "nbformat": 4,
 "nbformat_minor": 2
}
