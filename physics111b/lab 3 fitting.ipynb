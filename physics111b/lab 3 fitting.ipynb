{
 "cells": [
  {
   "cell_type": "code",
   "execution_count": 2,
   "metadata": {},
   "outputs": [],
   "source": [
    "import numpy as np\n",
    "import pandas as pd\n",
    "import matplotlib.pyplot as plt\n",
    "from scipy.optimize import curve_fit\n",
    "from scipy.stats import chi2\n",
    "from __future__ import division"
   ]
  },
  {
   "cell_type": "code",
   "execution_count": 3,
   "metadata": {},
   "outputs": [],
   "source": [
    "def getData(files):\n",
    "    f = open(\"data/\"+str(files), \"r\")\n",
    "    f1 = f.readlines()\n",
    "    del f1[0:4]\n",
    "    a = np.asarray(f1)\n",
    "    table = []\n",
    "    for i in range(0, len(a)):\n",
    "        b = a[i][0:-1].split('\\t')\n",
    "        c = map(float, b[0:6])\n",
    "        d = np.asarray(c)\n",
    "        table.append(d)\n",
    "    table = np.asarray(table)\n",
    "    pd.set_option('display.float_format', lambda x: '%.6e' % x)\n",
    "    df = pd.DataFrame(table, columns=['t1', 'v1', 'w1', 't2', 'v2', 'w2'])\n",
    "    return df"
   ]
  },
  {
   "cell_type": "code",
   "execution_count": 4,
   "metadata": {},
   "outputs": [],
   "source": [
    "def getChiSq(y, y_fit, sigma):\n",
    "    chi_sq = 0\n",
    "    for i in range(len(y)):\n",
    "        chi_sq += ( (y[i] - y_fit[i]) / sigma[i] )**2\n",
    "    return chi_sq"
   ]
  },
  {
   "cell_type": "code",
   "execution_count": 5,
   "metadata": {},
   "outputs": [],
   "source": [
    "def getRedChi2(y, y_fit, sigma, numPar=2):\n",
    "    chi_sq = getChiSq(y, y_fit, sigma)\n",
    "    red_chi_sq = chi_sq / (len(y) - numPar)\n",
    "    p = chi2.pdf(chi_sq, df=(len(y) - numPar))\n",
    "    print 'reduced chi-square =', '%.2f'%(red_chi_sq), 'p-value =', '%.2f'%(p)\n",
    "    return red_chi_sq"
   ]
  },
  {
   "cell_type": "code",
   "execution_count": 6,
   "metadata": {},
   "outputs": [],
   "source": [
    "def integrate(binwidth, yarray, low, high):\n",
    "    s = 0\n",
    "    interval = (int)((high - low)/binwidth)\n",
    "    for i in range(0, interval):\n",
    "        s = s + binwidth * yarray[i]\n",
    "    return s"
   ]
  },
  {
   "cell_type": "code",
   "execution_count": 7,
   "metadata": {},
   "outputs": [],
   "source": [
    "def applyCut(inputDataframe, cut, text=None):\n",
    "    dataframe = inputDataframe\n",
    "    nbeforecut = dataframe.shape[0]\n",
    "    cutDataframe = dataframe.query(cut)\n",
    "    if text:\n",
    "        print text, cutDataframe.shape[0], ' fraction kept: %2.1f'%(100.0*float(cutDataframe.shape[0])/nbeforecut)\n",
    "    return cutDataframe"
   ]
  },
  {
   "cell_type": "code",
   "execution_count": 8,
   "metadata": {},
   "outputs": [],
   "source": [
    "df_raw = getData('MUO_long.dat')"
   ]
  },
  {
   "cell_type": "code",
   "execution_count": 9,
   "metadata": {},
   "outputs": [
    {
     "name": "stdout",
     "output_type": "stream",
     "text": [
      "v1 > 0.05 940307  fraction kept: 98.0\n",
      "v2 > 0.05 82487  fraction kept: 8.8\n"
     ]
    }
   ],
   "source": [
    "df_raw.eval('dt = t2 - t1', inplace=True)\n",
    "df = applyCut(df_raw, 'v1 > 0.05', 'v1 > 0.05')\n",
    "df = applyCut(df, 'v2 > 0.05', 'v2 > 0.05')"
   ]
  },
  {
   "cell_type": "code",
   "execution_count": null,
   "metadata": {},
   "outputs": [],
   "source": []
  },
  {
   "cell_type": "code",
   "execution_count": 15,
   "metadata": {},
   "outputs": [],
   "source": [
    "def decay(x, tau, a):\n",
    "    return a * np.exp(- x / tau)"
   ]
  },
  {
   "cell_type": "code",
   "execution_count": 25,
   "metadata": {},
   "outputs": [],
   "source": [
    "low = 3\n",
    "high = 6\n",
    "bins = 12\n",
    "binWidth = (high - low) / bins"
   ]
  },
  {
   "cell_type": "code",
   "execution_count": 26,
   "metadata": {},
   "outputs": [
    {
     "data": {
      "text/plain": [
       "Text(0.5,1,'Signal + background')"
      ]
     },
     "execution_count": 26,
     "metadata": {},
     "output_type": "execute_result"
    },
    {
     "data": {
      "image/png": "[encoded data removed]",
      "text/plain": [
       "<Figure size 432x288 with 1 Axes>"
      ]
     },
     "metadata": {
      "needs_background": "light"
     },
     "output_type": "display_data"
    }
   ],
   "source": [
    "plt.hist(df['dt']*1e6, bins = bins, range=(low, high))\n",
    "plt.xlabel('Time difference between the pulses dt ($\\mu$s)', fontsize=12.5)\n",
    "plt.xticks(fontsize=12.5)\n",
    "plt.ylabel('Counts', fontsize=12.5)\n",
    "plt.yticks(fontsize=12.5)\n",
    "plt.ticklabel_format(axis=\"x\", style=\"sci\", scilimits=(0,0))\n",
    "plt.title('Signal + background')"
   ]
  },
  {
   "cell_type": "code",
   "execution_count": 27,
   "metadata": {},
   "outputs": [],
   "source": [
    "y, binEdges = np.histogram(df['dt']*1e6, bins=bins, range=(low, high))\n",
    "x = []\n",
    "for i in range(len(y)):\n",
    "    x.append((binEdges[i] + binEdges[i+1]) / 2)\n",
    "x = np.asarray(x)"
   ]
  },
  {
   "cell_type": "code",
   "execution_count": 28,
   "metadata": {},
   "outputs": [],
   "source": [
    "y = y - decay(x, tau_backg, a_backg)"
   ]
  },
  {
   "cell_type": "code",
   "execution_count": 29,
   "metadata": {},
   "outputs": [
    {
     "data": {
      "text/plain": [
       "(array([2092.96410318, 1761.42053114, 1683.75343971, 1450.96562506,\n",
       "        1301.05982004, 1100.03869564,  962.90486241,  850.66087178,\n",
       "         785.30921742,  637.85233656,  544.29261126,  474.63236965]),\n",
       " array([3.  , 3.25, 3.5 , 3.75, 4.  , 4.25, 4.5 , 4.75, 5.  , 5.25, 5.5 ,\n",
       "        5.75, 6.  ]),\n",
       " <a list of 12 Patch objects>)"
      ]
     },
     "execution_count": 29,
     "metadata": {},
     "output_type": "execute_result"
    },
    {
     "data": {
      "image/png": "[encoded data removed]",
      "text/plain": [
       "<Figure size 432x288 with 1 Axes>"
      ]
     },
     "metadata": {
      "needs_background": "light"
     },
     "output_type": "display_data"
    }
   ],
   "source": [
    "plt.hist(binEdges[:-1], binEdges, weights=y)"
   ]
  },
  {
   "cell_type": "code",
   "execution_count": 30,
   "metadata": {},
   "outputs": [
    {
     "name": "stdout",
     "output_type": "stream",
     "text": [
      "Parameters of binned exponential decay fit y = a * exp( -x / tau):\n",
      " tau = 1.946 micro sec\n",
      " a = 10440.326\n",
      " error on tau = 0.0532 micro sec\n",
      " error on a = 571.4059\n"
     ]
    }
   ],
   "source": [
    "popt, pcov = curve_fit(decay, x, y) # pcov is the covariance matrix for the fit parameters\n",
    "\n",
    "print 'Parameters of binned exponential decay fit y = a * exp( -x / tau):'\n",
    "print ' tau =','%.3f'%(popt[0]),'micro sec'\n",
    "print ' a =','%.3f'%(popt[1])\n",
    "print ' error on tau =', '%.4f'%(np.sqrt(pcov[0][0])), 'micro sec'\n",
    "print ' error on a =', '%.4f'%(np.sqrt(pcov[1][1]))"
   ]
  },
  {
   "cell_type": "code",
   "execution_count": 60,
   "metadata": {},
   "outputs": [
    {
     "data": {
      "text/plain": [
       "<matplotlib.legend.Legend at 0x7f7c4b1cded0>"
      ]
     },
     "execution_count": 60,
     "metadata": {},
     "output_type": "execute_result"
    },
    {
     "data": {
      "image/png": "[encoded data removed]",
      "text/plain": [
       "<Figure size 432x288 with 1 Axes>"
      ]
     },
     "metadata": {
      "needs_background": "light"
     },
     "output_type": "display_data"
    }
   ],
   "source": [
    "arange = np.arange(low, high+0.05, 0.05)\n",
    "plt.hist(binEdges[:-1], binEdges, weights=y)\n",
    "plt.plot(arange, decay(arange,popt[0],popt[1]),label=r'$y= (1.04 \\pm 0.05) 10^4 \\exp[-x/(1.95 \\pm 0.05)]$'+' \\n reduced $\\chi^2$ = 1.57',linewidth=3,alpha=.5,color='r')\n",
    "plt.xlabel('Time difference between the pulses dt($\\mu$s)', fontsize=12.5)\n",
    "plt.xticks(fontsize=15)\n",
    "plt.ylabel('Counts', fontsize=15)\n",
    "plt.yticks(fontsize=15)\n",
    "plt.title('Signal', fontsize=15)\n",
    "plt.legend(prop={'size': 12.5}, frameon=False, loc='upper right')"
   ]
  },
  {
   "cell_type": "code",
   "execution_count": 413,
   "metadata": {},
   "outputs": [
    {
     "name": "stdout",
     "output_type": "stream",
     "text": [
      "reduced chi-square = 1.57 p-value = 0.03\n"
     ]
    },
    {
     "data": {
      "text/plain": [
       "1.5716177945142502"
      ]
     },
     "execution_count": 413,
     "metadata": {},
     "output_type": "execute_result"
    }
   ],
   "source": [
    "sigma = np.sqrt(y)\n",
    "getRedChi2(y, decay(x, popt[0], popt[1]), sigma)"
   ]
  },
  {
   "cell_type": "code",
   "execution_count": null,
   "metadata": {},
   "outputs": [],
   "source": []
  },
  {
   "cell_type": "markdown",
   "metadata": {},
   "source": [
    "Fit an exponential curve to the background"
   ]
  },
  {
   "cell_type": "code",
   "execution_count": 11,
   "metadata": {},
   "outputs": [],
   "source": [
    "low = 10\n",
    "high = 20\n",
    "bins = 40\n",
    "binWidth = (high - low) / bins # = 0.2 micro sec / bin"
   ]
  },
  {
   "cell_type": "code",
   "execution_count": 12,
   "metadata": {},
   "outputs": [
    {
     "data": {
      "text/plain": [
       "Text(0.5,1,'Background')"
      ]
     },
     "execution_count": 12,
     "metadata": {},
     "output_type": "execute_result"
    },
    {
     "data": {
      "image/png": "[encoded data removed]",
      "text/plain": [
       "<Figure size 432x288 with 1 Axes>"
      ]
     },
     "metadata": {
      "needs_background": "light"
     },
     "output_type": "display_data"
    }
   ],
   "source": [
    "plt.hist(df['dt']*1e6, bins=bins, range=(low, high))\n",
    "plt.xlabel('Time between the pulses dt ($\\mu$s)')\n",
    "plt.ylabel('Normalized counts')\n",
    "plt.title('Background')"
   ]
  },
  {
   "cell_type": "code",
   "execution_count": 13,
   "metadata": {},
   "outputs": [],
   "source": [
    "y, binEdges = np.histogram(df['dt']*1e6, bins=bins, range=(low, high))\n",
    "x = []\n",
    "for i in range(len(y)):\n",
    "    x.append((binEdges[i] + binEdges[i+1]) / 2)\n",
    "x = np.asarray(x)"
   ]
  },
  {
   "cell_type": "code",
   "execution_count": 17,
   "metadata": {},
   "outputs": [
    {
     "name": "stdout",
     "output_type": "stream",
     "text": [
      "Parameters of binned exponential decay fit y = a * exp( -x / tau):\n",
      " tau = 10.918 micro sec\n",
      " a = 320.912\n",
      " error on tau = 0.8731 micro sec\n",
      " error on a = 32.4668\n"
     ]
    }
   ],
   "source": [
    "popt, pcov = curve_fit(decay, x, y) # pcov is the covariance matrix for the fit parameters\n",
    "\n",
    "tau_backg = popt[0]\n",
    "a_backg = popt[1]\n",
    "\n",
    "print 'Parameters of binned exponential decay fit y = a * exp( -x / tau):'\n",
    "print ' tau =','%.3f'%(popt[0]),'micro sec'\n",
    "print ' a =','%.3f'%(popt[1])\n",
    "print ' error on tau =', '%.4f'%(np.sqrt(pcov[0][0])), 'micro sec'\n",
    "print ' error on a =', '%.4f'%(np.sqrt(pcov[1][1]))"
   ]
  },
  {
   "cell_type": "code",
   "execution_count": 24,
   "metadata": {},
   "outputs": [
    {
     "data": {
      "text/plain": [
       "(array([  0.,  20.,  40.,  60.,  80., 100., 120., 140., 160., 180.]),\n",
       " <a list of 10 Text yticklabel objects>)"
      ]
     },
     "execution_count": 24,
     "metadata": {},
     "output_type": "execute_result"
    },
    {
     "data": {
      "image/png": "[encoded data removed]",
      "text/plain": [
       "<Figure size 432x288 with 1 Axes>"
      ]
     },
     "metadata": {
      "needs_background": "light"
     },
     "output_type": "display_data"
    }
   ],
   "source": [
    "arange = np.arange(10, 21)\n",
    "plt.hist(binEdges[:-1], binEdges, weights=y, label='data')\n",
    "plt.plot(arange, decay(arange,popt[0],popt[1]),label='fit: $y= (320\\pm 32)exp[-x /(11 \\pm 0.87)]$\\n reduced $\\chi^2$=1.31',linewidth=3,alpha=.5,color='r')\n",
    "plt.xlabel('Time between the pulses dt ($\\mu$s)', fontsize=15)\n",
    "plt.ylabel('Counts', fontsize=15)\n",
    "plt.legend(prop={'size': 12.5}, frameon=False, loc='best')\n",
    "plt.title('Background', fontsize=15)\n",
    "plt.xticks(fontsize=15)\n",
    "plt.yticks(fontsize=15)"
   ]
  },
  {
   "cell_type": "code",
   "execution_count": 22,
   "metadata": {},
   "outputs": [
    {
     "name": "stdout",
     "output_type": "stream",
     "text": [
      "reduced chi-square = 1.31 p-value = 0.02\n"
     ]
    },
    {
     "data": {
      "text/plain": [
       "1.3144025152141137"
      ]
     },
     "execution_count": 22,
     "metadata": {},
     "output_type": "execute_result"
    }
   ],
   "source": [
    "sigma = np.sqrt(y)\n",
    "getRedChi2(y, decay(x, popt[0], popt[1]), sigma)"
   ]
  },
  {
   "cell_type": "code",
   "execution_count": null,
   "metadata": {},
   "outputs": [],
   "source": []
  }
 ],
 "metadata": {
  "kernelspec": {
   "display_name": "Python 2",
   "language": "python",
   "name": "python2"
  },
  "language_info": {
   "codemirror_mode": {
    "name": "ipython",
    "version": 2
   },
   "file_extension": ".py",
   "mimetype": "text/x-python",
   "name": "python",
   "nbconvert_exporter": "python",
   "pygments_lexer": "ipython2",
   "version": "2.7.15rc1"
  }
 },
 "nbformat": 4,
 "nbformat_minor": 2
}
