{
 "cells": [
  {
   "cell_type": "code",
   "execution_count": 1,
   "metadata": {},
   "outputs": [
    {
     "name": "stdout",
     "output_type": "stream",
     "text": [
      "The history saving thread hit an unexpected error (DatabaseError('database disk image is malformed',)).History will not be written to the database.\n"
     ]
    }
   ],
   "source": [
    "import numpy as np\n",
    "import pandas as pd\n",
    "import matplotlib.pyplot as plt\n",
    "from scipy.optimize import curve_fit\n",
    "from scipy.stats import chi2\n",
    "from __future__ import division"
   ]
  },
  {
   "cell_type": "code",
   "execution_count": 2,
   "metadata": {},
   "outputs": [],
   "source": [
    "def getData(files):\n",
    "    f = open(\"data/\"+str(files), \"r\")\n",
    "    f1 = f.readlines()\n",
    "    del f1[0:4]\n",
    "    a = np.asarray(f1)\n",
    "    table = []\n",
    "    for i in range(0, len(a)):\n",
    "        b = a[i][0:-1].split('\\t')\n",
    "        c = map(float, b[0:6])\n",
    "        d = np.asarray(c)\n",
    "        table.append(d)\n",
    "    table = np.asarray(table)\n",
    "    pd.set_option('display.float_format', lambda x: '%.6e' % x)\n",
    "    df = pd.DataFrame(table, columns=['t1', 'v1', 'w1', 't2', 'v2', 'w2'])\n",
    "    return df"
   ]
  },
  {
   "cell_type": "code",
   "execution_count": 3,
   "metadata": {},
   "outputs": [],
   "source": [
    "def getChiSq(y, y_fit, sigma):\n",
    "    chi_sq = 0\n",
    "    for i in range(len(y)):\n",
    "        chi_sq += ( (y[i] - y_fit[i]) / sigma[i] )**2\n",
    "    return chi_sq"
   ]
  },
  {
   "cell_type": "code",
   "execution_count": 4,
   "metadata": {},
   "outputs": [],
   "source": [
    "def getRedChi2(y, y_fit, sigma, numPar=2):\n",
    "    chi_sq = getChiSq(y, y_fit, sigma)\n",
    "    red_chi_sq = chi_sq / (len(y) - numPar)\n",
    "    p = chi2.pdf(chi_sq, df=(len(y) - numPar))\n",
    "    print 'reduced chi-square =', '%.2f'%(red_chi_sq), 'p-value =', '%.2f'%(p)\n",
    "    return red_chi_sq"
   ]
  },
  {
   "cell_type": "code",
   "execution_count": 5,
   "metadata": {},
   "outputs": [],
   "source": [
    "def integrate(binwidth, yarray, low, high):\n",
    "    s = 0\n",
    "    interval = (int)((high - low)/binwidth)\n",
    "    for i in range(0, interval):\n",
    "        s = s + binwidth * yarray[i]\n",
    "    return s"
   ]
  },
  {
   "cell_type": "code",
   "execution_count": 6,
   "metadata": {},
   "outputs": [],
   "source": [
    "def applyCut(inputDataframe, cut, text=None):\n",
    "    dataframe = inputDataframe\n",
    "    nbeforecut = dataframe.shape[0]\n",
    "    cutDataframe = dataframe.query(cut)\n",
    "    if text:\n",
    "        print text, cutDataframe.shape[0], ' fraction kept: %2.1f'%(100.0*float(cutDataframe.shape[0])/nbeforecut)\n",
    "    return cutDataframe"
   ]
  },
  {
   "cell_type": "code",
   "execution_count": 7,
   "metadata": {},
   "outputs": [],
   "source": [
    "df_raw = getData('MUO_long.dat')"
   ]
  },
  {
   "cell_type": "code",
   "execution_count": 8,
   "metadata": {},
   "outputs": [
    {
     "name": "stdout",
     "output_type": "stream",
     "text": [
      "v1 > 0.05 940307  fraction kept: 98.0\n",
      "v2 > 0.05 82487  fraction kept: 8.8\n"
     ]
    }
   ],
   "source": [
    "df_raw.eval('dt = t2 - t1', inplace=True)\n",
    "df = applyCut(df_raw, 'v1 > 0.05', 'v1 > 0.05')\n",
    "df = applyCut(df, 'v2 > 0.05', 'v2 > 0.05')"
   ]
  },
  {
   "cell_type": "code",
   "execution_count": null,
   "metadata": {},
   "outputs": [],
   "source": []
  },
  {
   "cell_type": "code",
   "execution_count": 9,
   "metadata": {},
   "outputs": [],
   "source": [
    "def decay(x, tau, a):\n",
    "    return a * np.exp(- x / tau)"
   ]
  },
  {
   "cell_type": "code",
   "execution_count": 70,
   "metadata": {},
   "outputs": [],
   "source": [
    "def decay1(x, tau, a, c):\n",
    "    return a * np.exp(-x / tau) + c"
   ]
  },
  {
   "cell_type": "code",
   "execution_count": 158,
   "metadata": {},
   "outputs": [],
   "source": [
    "low = 4\n",
    "high = 6\n",
    "bins = 10\n",
    "binWidth = (high - low) / bins"
   ]
  },
  {
   "cell_type": "code",
   "execution_count": 159,
   "metadata": {},
   "outputs": [
    {
     "data": {
      "text/plain": [
       "Text(0.5,1,'Signal + background')"
      ]
     },
     "execution_count": 159,
     "metadata": {},
     "output_type": "execute_result"
    },
    {
     "data": {
      "image/png": "[encoded data removed]",
      "text/plain": [
       "<Figure size 432x288 with 1 Axes>"
      ]
     },
     "metadata": {
      "needs_background": "light"
     },
     "output_type": "display_data"
    }
   ],
   "source": [
    "plt.hist(df['dt']*1e6, bins = bins, range=(low, high))\n",
    "plt.xlabel('Time difference between the pulses dt ($\\mu$s)', fontsize=12.5)\n",
    "plt.xticks(fontsize=12.5)\n",
    "plt.ylabel('Counts', fontsize=12.5)\n",
    "plt.yticks(fontsize=12.5)\n",
    "plt.ticklabel_format(axis=\"x\", style=\"sci\", scilimits=(0,0))\n",
    "plt.title('Signal + background')"
   ]
  },
  {
   "cell_type": "code",
   "execution_count": 160,
   "metadata": {},
   "outputs": [],
   "source": [
    "y, binEdges = np.histogram(df['dt']*1e6, bins=bins, range=(low, high))\n",
    "x = []\n",
    "for i in range(len(y)):\n",
    "    x.append((binEdges[i] + binEdges[i+1]) / 2)\n",
    "x = np.asarray(x)"
   ]
  },
  {
   "cell_type": "code",
   "execution_count": 161,
   "metadata": {},
   "outputs": [
    {
     "name": "stdout",
     "output_type": "stream",
     "text": [
      "Parameters of binned exponential decay fit y = a * exp( -x / tau):\n",
      " tau = 1.870 micro sec\n",
      " a = 10082.473\n",
      " c = 99.647\n",
      " error on tau = 0.6605 micro sec\n",
      " error on a = 5720.3830\n"
     ]
    }
   ],
   "source": [
    "popt, pcov = curve_fit(decay1, x, y) # pcov is the covariance matrix for the fit parameters\n",
    "\n",
    "print 'Parameters of binned exponential decay fit y = a * exp( -x / tau):'\n",
    "print ' tau =','%.3f'%(popt[0]),'micro sec'\n",
    "print ' a =','%.3f'%(popt[1])\n",
    "print ' c =','%.3f'%(popt[2])\n",
    "print ' error on tau =', '%.4f'%(np.sqrt(pcov[0][0])), 'micro sec'\n",
    "print ' error on a =', '%.4f'%(np.sqrt(pcov[1][1]))"
   ]
  },
  {
   "cell_type": "code",
   "execution_count": 164,
   "metadata": {},
   "outputs": [
    {
     "data": {
      "text/plain": [
       "<matplotlib.legend.Legend at 0x7f521fd53550>"
      ]
     },
     "execution_count": 164,
     "metadata": {},
     "output_type": "execute_result"
    },
    {
     "data": {
      "image/png": "[encoded data removed]",
      "text/plain": [
       "<Figure size 432x288 with 1 Axes>"
      ]
     },
     "metadata": {
      "needs_background": "light"
     },
     "output_type": "display_data"
    }
   ],
   "source": [
    "arange = np.arange(low, high+.05, 0.05)\n",
    "plt.hist(binEdges[:-1], binEdges, weights=y, label='data')\n",
    "plt.plot(arange, decay1(arange,popt[0],popt[1],popt[2]),label='fit',linewidth=3,alpha=.5,color='r')\n",
    "plt.xlabel('Time difference between the pulses dt($\\mu$s)', fontsize=12.5)\n",
    "plt.xticks(fontsize=12.5)\n",
    "plt.ylabel('Counts', fontsize=12.5)\n",
    "plt.yticks(fontsize=12.5)\n",
    "plt.title('Signal + background')\n",
    "plt.legend(prop={'size': 15}, frameon=False, loc='best')"
   ]
  },
  {
   "cell_type": "code",
   "execution_count": 163,
   "metadata": {},
   "outputs": [
    {
     "name": "stdout",
     "output_type": "stream",
     "text": [
      "reduced chi-square = 1.18 p-value = 0.08\n"
     ]
    },
    {
     "data": {
      "text/plain": [
       "1.1841117306820022"
      ]
     },
     "execution_count": 163,
     "metadata": {},
     "output_type": "execute_result"
    }
   ],
   "source": [
    "sigma = np.sqrt(y)\n",
    "getRedChi2(y, decay1(x, popt[0], popt[1], popt[2]), sigma, numPar=3)"
   ]
  },
  {
   "cell_type": "code",
   "execution_count": null,
   "metadata": {},
   "outputs": [],
   "source": []
  }
 ],
 "metadata": {
  "kernelspec": {
   "display_name": "Python 2",
   "language": "python",
   "name": "python2"
  },
  "language_info": {
   "codemirror_mode": {
    "name": "ipython",
    "version": 2
   },
   "file_extension": ".py",
   "mimetype": "text/x-python",
   "name": "python",
   "nbconvert_exporter": "python",
   "pygments_lexer": "ipython2",
   "version": "2.7.15rc1"
  }
 },
 "nbformat": 4,
 "nbformat_minor": 2
}
